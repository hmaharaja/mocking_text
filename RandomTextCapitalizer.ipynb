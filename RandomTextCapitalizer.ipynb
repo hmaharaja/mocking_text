{
  "nbformat": 4,
  "nbformat_minor": 0,
  "metadata": {
    "colab": {
      "name": "RandomTextCapitalizer.ipynb",
      "provenance": [],
      "authorship_tag": "ABX9TyM4rnw1r3eQ1mrvysSYP2WN",
      "include_colab_link": true
    },
    "kernelspec": {
      "name": "python3",
      "display_name": "Python 3"
    }
  },
  "cells": [
    {
      "cell_type": "markdown",
      "metadata": {
        "id": "view-in-github",
        "colab_type": "text"
      },
      "source": [
        "<a href=\"https://colab.research.google.com/github/hmaharaja/to_kill_a_mocking_text/blob/master/RandomTextCapitalizer.ipynb\" target=\"_parent\"><img src=\"https://colab.research.google.com/assets/colab-badge.svg\" alt=\"Open In Colab\"/></a>"
      ]
    },
    {
      "cell_type": "code",
      "metadata": {
        "id": "YGy8WB5ITDR_",
        "colab_type": "code",
        "outputId": "07a87386-700b-449e-ceb1-dd140ceef6d7",
        "colab": {
          "base_uri": "https://localhost:8080/",
          "height": 225
        }
      },
      "source": [
        "import random\n",
        "\n",
        "def mocking_tone(str_input):\n",
        "  ret_str = \"\"\n",
        "  for i in range(0, len(str_input)):\n",
        "\n",
        "    # get a random floating point number to serve as a \"flag\" for whether or not\n",
        "    # the input string's case should be changed\n",
        "    randnum = random.random()\n",
        "\n",
        "    if(randnum >= 0.578 and str_input[i].isalpha()):\n",
        "      if str_input[i].islower():\n",
        "        ret_str+= str_input[i].upper()\n",
        "      elif str_input[i].isupper():\n",
        "        ret_str+= str_input[i].lower()\n",
        "\n",
        "    else:\n",
        "      ret_str+= str_input[i]\n",
        "\n",
        "  return ret_str\n",
        "\n",
        "def main():\n",
        "  instr = \"yeet\"\n",
        "  while(instr != \"q\"):\n",
        "    print(\"Type your text here (type q to quit): \")\n",
        "    instr = input()\n",
        "\n",
        "    if(instr.isdigit()):\n",
        "      print(\"Mate, put in some TEXT\")\n",
        "    else:\n",
        "      print(mocking_tone(instr))\n",
        "\n",
        "if __name__ == \"__main__\":\n",
        "  main()\n",
        "\n",
        "\n"
      ],
      "execution_count": 0,
      "outputs": [
        {
          "output_type": "stream",
          "text": [
            "Type your text here (type q to quit): \n",
            "fghrgefrwwrgth\n",
            "FGHrgEfrwWrgtH\n",
            "Type your text here (type q to quit): \n",
            "fregthw\n",
            "frEgTHw\n",
            "Type your text here (type q to quit): \n",
            "12345\n",
            "Mate, put in some TEXT\n",
            "Type your text here (type q to quit): \n",
            "q\n",
            "Q\n"
          ],
          "name": "stdout"
        }
      ]
    }
  ]
}